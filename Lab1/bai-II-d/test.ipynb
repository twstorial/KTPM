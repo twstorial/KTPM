{
 "cells": [
  {
   "cell_type": "markdown",
   "id": "c86df6a3",
   "metadata": {},
   "source": [
    "II - D"
   ]
  },
  {
   "cell_type": "markdown",
   "id": "bae02957",
   "metadata": {},
   "source": [
    "Create test case 1 file"
   ]
  },
  {
   "cell_type": "code",
   "execution_count": 1,
   "id": "6bfa0a85-ec8c-4c17-96d8-f65256416816",
   "metadata": {},
   "outputs": [
    {
     "name": "stdout",
     "output_type": "stream",
     "text": [
      "Writing case1.inp\n"
     ]
    }
   ],
   "source": [
    "%%writefile case1.inp\n",
    "1"
   ]
  },
  {
   "cell_type": "markdown",
   "id": "c65ef706",
   "metadata": {},
   "source": [
    "Create test case 2 file"
   ]
  },
  {
   "cell_type": "code",
   "execution_count": 2,
   "id": "9256ed16-31f7-464e-8550-81a804a17348",
   "metadata": {},
   "outputs": [
    {
     "name": "stdout",
     "output_type": "stream",
     "text": [
      "Writing case2.inp\n"
     ]
    }
   ],
   "source": [
    "%%writefile case2.inp\n",
    "-1"
   ]
  },
  {
   "cell_type": "code",
   "execution_count": null,
   "id": "eb42121e-2d65-4f24-ab83-4c0c9e0570ea",
   "metadata": {},
   "outputs": [
    {
     "name": "stdout",
     "output_type": "stream",
     "text": [
      "\"Expected: 2\"\n",
      "2\n",
      "\"Expected: -2\"\n",
      "-2\n"
     ]
    }
   ],
   "source": [
    "!g++ d.cpp -o d\n",
    "\n",
    "!d.exe < case1.inp > case1.out\n",
    "!echo \"Expected: 2\"\n",
    "!type case1.out\n",
    "\n",
    "!d.exe < case2.inp > case2.out\n",
    "!echo \"Expected: -2\"\n",
    "!type case2.out\n"
   ]
  }
 ],
 "metadata": {
  "kernelspec": {
   "display_name": "Python 3",
   "language": "python",
   "name": "python3"
  },
  "language_info": {
   "codemirror_mode": {
    "name": "ipython",
    "version": 3
   },
   "file_extension": ".py",
   "mimetype": "text/x-python",
   "name": "python",
   "nbconvert_exporter": "python",
   "pygments_lexer": "ipython3",
   "version": "3.10.6"
  }
 },
 "nbformat": 4,
 "nbformat_minor": 5
}
