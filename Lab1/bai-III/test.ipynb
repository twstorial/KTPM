{
 "cells": [
  {
   "cell_type": "markdown",
   "id": "6b0b5c09",
   "metadata": {},
   "source": [
    "III"
   ]
  },
  {
   "cell_type": "code",
   "execution_count": 2,
   "id": "f3fbf421",
   "metadata": {},
   "outputs": [
    {
     "name": "stdout",
     "output_type": "stream",
     "text": [
      "Writing case1.inp\n"
     ]
    }
   ],
   "source": [
    "%%writefile case1.inp\n",
    "0 0 0"
   ]
  },
  {
   "cell_type": "code",
   "execution_count": 3,
   "id": "adcf0f6c",
   "metadata": {},
   "outputs": [
    {
     "name": "stdout",
     "output_type": "stream",
     "text": [
      "Writing case2.inp\n"
     ]
    }
   ],
   "source": [
    "%%writefile case2.inp\n",
    "0 0 1"
   ]
  },
  {
   "cell_type": "code",
   "execution_count": 4,
   "id": "e5fec9aa",
   "metadata": {},
   "outputs": [
    {
     "name": "stdout",
     "output_type": "stream",
     "text": [
      "Writing case3.inp\n"
     ]
    }
   ],
   "source": [
    "%%writefile case3.inp\n",
    "0 1 1"
   ]
  },
  {
   "cell_type": "code",
   "execution_count": 5,
   "id": "152aeb17",
   "metadata": {},
   "outputs": [
    {
     "name": "stdout",
     "output_type": "stream",
     "text": [
      "Writing case4.inp\n"
     ]
    }
   ],
   "source": [
    "%%writefile case4.inp\n",
    "0 1 -1"
   ]
  },
  {
   "cell_type": "code",
   "execution_count": 6,
   "id": "3e2647a8",
   "metadata": {},
   "outputs": [
    {
     "name": "stdout",
     "output_type": "stream",
     "text": [
      "Writing case5.inp\n"
     ]
    }
   ],
   "source": [
    "%%writefile case5.inp\n",
    "1 0 1"
   ]
  },
  {
   "cell_type": "code",
   "execution_count": 7,
   "id": "aaa5e4ba",
   "metadata": {},
   "outputs": [
    {
     "name": "stdout",
     "output_type": "stream",
     "text": [
      "Writing case6.inp\n"
     ]
    }
   ],
   "source": [
    "%%writefile case6.inp\n",
    "1 -5 4"
   ]
  },
  {
   "cell_type": "code",
   "execution_count": 8,
   "id": "a76eb829",
   "metadata": {},
   "outputs": [
    {
     "name": "stdout",
     "output_type": "stream",
     "text": [
      "Writing case7.inp\n"
     ]
    }
   ],
   "source": [
    "%%writefile case7.inp\n",
    "1 2 -2"
   ]
  },
  {
   "cell_type": "code",
   "execution_count": 10,
   "id": "0275a1a7",
   "metadata": {},
   "outputs": [
    {
     "name": "stdout",
     "output_type": "stream",
     "text": [
      "\"Expected: -1\"\n",
      " Infinite solutions.\n",
      "\"Expected: 0\"\n",
      "No solution.\n",
      "\"Expected: 0\"\n",
      "No solution.\n",
      "\"Expected: 2\"\n",
      " The equation has 2 real solution(s): 1 -1 \n",
      "\"Expected: 0\"\n",
      "No solution.\n",
      "\"Expected: 4\"\n",
      " The equation has 4 real solution(s): 2 -2 1 -1 \n",
      "\"Expected: 2\"\n",
      " The equation has 2 real solution(s): 0.8556 -0.8556 \n"
     ]
    }
   ],
   "source": [
    "!g++ solveQuartic.cpp -o solveQuartic\n",
    "\n",
    "!solveQuartic.exe < case1.inp > case1.out\n",
    "!echo \"Expected: -1\"\n",
    "!type case1.out\n",
    "\n",
    "!solveQuartic.exe < case2.inp > case2.out\n",
    "!echo \"Expected: 0\"\n",
    "!type case2.out\n",
    "\n",
    "!solveQuartic.exe < case3.inp > case3.out\n",
    "!echo \"Expected: 0\"\n",
    "!type case3.out\n",
    "\n",
    "!solveQuartic.exe < case4.inp > case4.out\n",
    "!echo \"Expected: 2\"\n",
    "!type case4.out\n",
    "\n",
    "!solveQuartic.exe < case5.inp > case5.out\n",
    "!echo \"Expected: 0\"\n",
    "!type case5.out\n",
    "\n",
    "!solveQuartic.exe < case6.inp > case6.out\n",
    "!echo \"Expected: 4\"\n",
    "!type case6.out\n",
    "\n",
    "!solveQuartic.exe < case7.inp > case7.out\n",
    "!echo \"Expected: 2\"\n",
    "!type case7.out"
   ]
  }
 ],
 "metadata": {
  "kernelspec": {
   "display_name": "Python 3",
   "language": "python",
   "name": "python3"
  },
  "language_info": {
   "codemirror_mode": {
    "name": "ipython",
    "version": 3
   },
   "file_extension": ".py",
   "mimetype": "text/x-python",
   "name": "python",
   "nbconvert_exporter": "python",
   "pygments_lexer": "ipython3",
   "version": "3.10.6"
  }
 },
 "nbformat": 4,
 "nbformat_minor": 5
}
